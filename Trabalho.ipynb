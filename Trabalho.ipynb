{
  "nbformat": 4,
  "nbformat_minor": 0,
  "metadata": {
    "colab": {
      "provenance": [],
      "authorship_tag": "ABX9TyNox4ap+euDHUiXPQAwhfZq",
      "include_colab_link": true
    },
    "kernelspec": {
      "name": "python3",
      "display_name": "Python 3"
    },
    "language_info": {
      "name": "python"
    }
  },
  "cells": [
    {
      "cell_type": "markdown",
      "metadata": {
        "id": "view-in-github",
        "colab_type": "text"
      },
      "source": [
        "<a href=\"https://colab.research.google.com/github/PedroMoino/Pedro_Eng-Producao/blob/main/Trabalho.ipynb\" target=\"_parent\"><img src=\"https://colab.research.google.com/assets/colab-badge.svg\" alt=\"Open In Colab\"/></a>"
      ]
    },
    {
      "cell_type": "code",
      "source": [
        "# MEU PRIMEIRO WEB APP\n",
        "import streamlit as st\n",
        "from ACTlib01 import *\n",
        "url = \"https://docs.google.com/spreadsheets/d/e/2PACX-1vT0U488MF4q5_1rWyEXTZ1OE3t_ACIylHTirxkI3-7usaYpu4KGjpnh4e7kIEjtahEJLKg8xrSQNhSx/pub?gid=786087389&single=true&output=csv\"\n",
        "db = Ler_GooglePlanilha(url)\n",
        "Escrever(db)\n",
        "Configurar_Pagina(\"Exemplo 1\",\n",
        "                    \"amplo\",\n",
        "                    \"auto\",\n",
        "                    \"https://docs.streamlit.io\",\n",
        "                    \"mailto:informacoes.actsp@gmail.com\",\n",
        "                    \"ACT - Soluções para Pessoas. Você pode usar formatação Markdown para adicionar informações neste espaço. Para mais informações acesse *https://www.markdownguide.org*\",\n",
        "                    \"©️\")\n",
        "\n",
        "# Use st.title(\"\") para adicionar um TÍTULO ao seu Web app\n",
        "st.title(\"MEU 1º WEB APP STREAMLIT\")\n",
        "\n",
        "# Use st.header(\"\") para adicionar um CABEÇALHO ao seu Web app\n",
        "st.header(\"PANDAS\")\n",
        "\n",
        "# Use st.subheader(\"\") para adicionar um SUB CABEÇALHO ao seu Web app\n",
        "st.subheader(\"NOTÍCIAS PYTON \")\n",
        "\n",
        "# Use st.write(\"\") para adicionar um texto ao seu Web app\n",
        "st.write(\"Como já deve ter percebido, o método st.write() é usado para escrita de texto e informações gerais!\")\n"
      ],
      "metadata": {
        "id": "PflESc2u0OmV"
      },
      "execution_count": null,
      "outputs": []
    }
  ]
}